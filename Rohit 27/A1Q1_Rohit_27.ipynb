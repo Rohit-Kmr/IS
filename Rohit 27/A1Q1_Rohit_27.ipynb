{
 "cells": [
  {
   "cell_type": "code",
   "execution_count": 1,
   "metadata": {},
   "outputs": [],
   "source": [
    "from random import randrange                                          # to generate random movement\n",
    "from numpy import *                                                   # to calculate average and standard deviation"
   ]
  },
  {
   "cell_type": "code",
   "execution_count": 2,
   "metadata": {},
   "outputs": [
    {
     "name": "stdout",
     "output_type": "stream",
     "text": [
      "mean=2.175 and standard deviation=1.9942103700462495 at T=16\n"
     ]
    }
   ],
   "source": [
    "total=[]                                    # list to store result of every iteration \n",
    "T=16                                        # number of steps given\n",
    "for i in range(100):                        # run the contents to get average\n",
    "    dir1=0                                  # bee can go in 3 direction and positive and negative of each so 6 direction in total\n",
    "    dir2=0\n",
    "    dir3=0\n",
    "    for i in range(T):                                     # run loop T times\n",
    "        temp=randrange(6)                                  # genrate random move in 6 direction\n",
    "        if temp==0:                                        # adding distance or subtracting it in each direction after every move\n",
    "            dir1+=1\n",
    "        if temp==1:\n",
    "            dir2+=1\n",
    "        if temp==2:\n",
    "            dir3+=1\n",
    "        if temp==3:\n",
    "            dir1-=1\n",
    "        if temp==4:\n",
    "            dir2-=1\n",
    "        if temp==5:\n",
    "            dir3-=1\n",
    "    d1=abs(dir1)                                                                #absolute value of distances\n",
    "    d2=abs(dir2)\n",
    "    d3=abs(dir3)\n",
    "    if d2>d1 and d2>d3:                                                         # finding max as direction 2 or not\n",
    "        if (dir1>0 and dir2>0 and dir3>0) or (dir1<0 and dir2<0 and dir3<0):    #all are in same direction i.e all are positive or negative\n",
    "            total.append(abs(dir2)+(d1+d3)/2)                                   # appending distance at the end of list\n",
    "        elif (dir1>0 and dir3>0) or (dir1<0 and dir3<0):                        #when only direction 2 is opposite sign(+ or -) to other 2\n",
    "            total.append(abs(dir2)-(d1+d3)/2)\n",
    "        else:                                                                   # other case direction 1 and 3 are of opposite signs(+ or -)\n",
    "            total.append(abs(dir2)+(dir1+dir3))\n",
    "    elif d3>d1 and d3>d2:                                                       # direction 3 is maximum distance\n",
    "        if (dir1>0 and dir2>0 and dir3>0) or (dir1<0 and dir2<0 and dir3<0):    #all are in same direction i.e upward or downward\n",
    "            total.append(abs(dir1)+(d2-d1))\n",
    "        elif (dir1>0 and dir2>0) or (dir1<0 and dir2<0):                        # when only direction 3 is opposite sign to other 2\n",
    "            total.append(abs(dir1)+(d1-d2))\n",
    "        elif (dir2>0 and dir3>0) or (dir2<0 and dir3<0):                        # when direction 2 and direction 3 are both of same sign\n",
    "            total.append(abs(dir1)+(d2+d1)/2)\n",
    "        else:                                                                   # when direction 2 and direction are not of same sign\n",
    "            total.append(abs(dir1)-(d2+d1)/2)\n",
    "    else:                                                                      # direction 1 is maximum \n",
    "        if (dir1>0 and dir2>0 and dir3>0) or (dir1<0 and dir2<0 and dir3<0):     # cases similar as when direction 3 is maximum\n",
    "            total.append(abs(dir1)+(d2-d3))\n",
    "        elif (dir2>0 and dir3>0) or (dir2<0 and dir3<0):\n",
    "            total.append(abs(dir1)+(d3-d2))\n",
    "        elif (dir2>0 and dir1>0) or (dir2<0 and dir1<0):\n",
    "            total.append(abs(dir1)+(d2+d3)/2)\n",
    "        else:\n",
    "            total.append(abs(dir1)-(d2+d3)/2)                                   # appending distance at the end of list\n",
    "total=array(total)                                                              # convert the list into a numpy array\n",
    "                                                             # str function is used to covert number to string then concat with other string\n",
    "print(\"mean=\"+str(total.mean())+\" and standard deviation=\"+str(std(total))+\" at T=\"+str(T))     # numpy array has mean() function to find average\n",
    "                                                                            #  and numpy library has std function to find standard deviation "
   ]
  },
  {
   "cell_type": "code",
   "execution_count": 3,
   "metadata": {},
   "outputs": [
    {
     "name": "stdout",
     "output_type": "stream",
     "text": [
      "mean=4.655 and standard deviation=3.9234519240077352 at T=64\n"
     ]
    }
   ],
   "source": [
    "# same lines of code for T=64\n",
    "\n",
    "total=[]                                    # list to store result of every iteration \n",
    "T=64                                        # number of steps given \n",
    "for i in range(100):                        # run the contents to get average\n",
    "    dir1=0                                  # bee can go in 3 direction and positive and negative of each so 6 direction in total\n",
    "    dir2=0\n",
    "    dir3=0\n",
    "    for i in range(T):                                     # run loop T times\n",
    "        temp=randrange(6)                                  # genrate random move in 6 direction\n",
    "        if temp==0:                                        # adding distance or subtracting it in each direction after every move\n",
    "            dir1+=1\n",
    "        if temp==1:\n",
    "            dir2+=1\n",
    "        if temp==2:\n",
    "            dir3+=1\n",
    "        if temp==3:\n",
    "            dir1-=1\n",
    "        if temp==4:\n",
    "            dir2-=1\n",
    "        if temp==5:\n",
    "            dir3-=1\n",
    "    d1=abs(dir1)                                                                #absolute value of distances\n",
    "    d2=abs(dir2)\n",
    "    d3=abs(dir3)\n",
    "    if d2>d1 and d2>d3:                                                         # finding max as direction 2 or not\n",
    "        if (dir1>0 and dir2>0 and dir3>0) or (dir1<0 and dir2<0 and dir3<0):    #all are in same direction i.e all are positive or negative\n",
    "            total.append(abs(dir2)+(d1+d3)/2)                                   # appending distance at the end of list\n",
    "        elif (dir1>0 and dir3>0) or (dir1<0 and dir3<0):                        #when only direction 2 is opposite sign(+ or -) to other 2\n",
    "            total.append(abs(dir2)-(d1+d3)/2)\n",
    "        else:                                                                   # other case direction 1 and 3 are of opposite signs(+ or -)\n",
    "            total.append(abs(dir2)+(dir1+dir3))\n",
    "    elif d3>d1 and d3>d2:                                                       # direction 3 is maximum distance\n",
    "        if (dir1>0 and dir2>0 and dir3>0) or (dir1<0 and dir2<0 and dir3<0):    #all are in same direction i.e upward or downward\n",
    "            total.append(abs(dir1)+(d2-d1))\n",
    "        elif (dir1>0 and dir2>0) or (dir1<0 and dir2<0):                        # when only direction 3 is opposite sign to other 2\n",
    "            total.append(abs(dir1)+(d1-d2))\n",
    "        elif (dir2>0 and dir3>0) or (dir2<0 and dir3<0):                        # when direction 2 and direction 3 are both of same sign\n",
    "            total.append(abs(dir1)+(d2+d1)/2)\n",
    "        else:                                                                   # when direction 2 and direction are not of same sign\n",
    "            total.append(abs(dir1)-(d2+d1)/2)\n",
    "    else:                                                                      # direction 1 is maximum \n",
    "        if (dir1>0 and dir2>0 and dir3>0) or (dir1<0 and dir2<0 and dir3<0):     # cases similar as when direction 3 is maximum\n",
    "            total.append(abs(dir1)+(d2-d3))\n",
    "        elif (dir2>0 and dir3>0) or (dir2<0 and dir3<0):\n",
    "            total.append(abs(dir1)+(d3-d2))\n",
    "        elif (dir2>0 and dir1>0) or (dir2<0 and dir1<0):\n",
    "            total.append(abs(dir1)+(d2+d3)/2)\n",
    "        else:\n",
    "            total.append(abs(dir1)-(d2+d3)/2)                                   # appending distance at the end of list\n",
    "total=array(total)                                                              # convert the list into a numpy array\n",
    "                                                                # str function is used to covert number to string then concat with other string\n",
    "print(\"mean=\"+str(total.mean())+\" and standard deviation=\"+str(std(total))+\" at T=\"+str(T))     # numpy array has mean() function to find average\n",
    "                                                                            #  and numpy library has std function to find standard deviation "
   ]
  },
  {
   "cell_type": "code",
   "execution_count": null,
   "metadata": {},
   "outputs": [],
   "source": []
  }
 ],
 "metadata": {
  "kernelspec": {
   "display_name": "Python 3",
   "language": "python",
   "name": "python3"
  },
  "language_info": {
   "codemirror_mode": {
    "name": "ipython",
    "version": 3
   },
   "file_extension": ".py",
   "mimetype": "text/x-python",
   "name": "python",
   "nbconvert_exporter": "python",
   "pygments_lexer": "ipython3",
   "version": "3.6.5"
  }
 },
 "nbformat": 4,
 "nbformat_minor": 2
}
