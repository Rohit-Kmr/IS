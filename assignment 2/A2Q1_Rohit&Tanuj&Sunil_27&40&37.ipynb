{
 "cells": [
  {
   "cell_type": "code",
   "execution_count": 1,
   "metadata": {},
   "outputs": [],
   "source": [
    "from sklearn import preprocessing\n",
    "from sklearn.feature_selection import SelectKBest\n",
    "from sklearn.feature_selection import chi2\n",
    "from sklearn.cluster import KMeans\n",
    "import pandas as pd\n",
    "from sklearn.model_selection import train_test_split\n",
    "import numpy as np\n",
    "from sklearn.metrics import confusion_matrix\n",
    "import matplotlib.pyplot as plt\n",
    "from mpl_toolkits.mplot3d import Axes3D"
   ]
  },
  {
   "cell_type": "code",
   "execution_count": 2,
   "metadata": {},
   "outputs": [],
   "source": [
    "l=[]\n",
    "norm_x=[]\n",
    "target=[]\n",
    "dic2={}\n",
    "t2=0\n",
    "dic1={}\n",
    "t1=0\n",
    "dic3={}\n",
    "t3=0\n",
    "for i in range(1,2):\n",
    "    for j in range(1,2):\n",
    "        f=open(\"2015/0\"+str(i)+\"/20150\"+str(i)+\"0\"+str(j)+\".txt\",\"r\")\n",
    "        for line in f.readlines():\n",
    "            l.append(line.split(\"\\t\"))\n",
    "            '''\n",
    "            ignore if label is not -1 or -2 or 1\n",
    "            '''\n",
    "            if l[-1][17]!='1' and l[-1][17] !='-1' and l[-1][17]!='-2':\n",
    "                continue\n",
    "            '''\n",
    "            converting catagorical values to metric\n",
    "            '''\n",
    "            t=l[-1][1]\n",
    "            if t not in dic2:\n",
    "                dic2.update({t:t2})\n",
    "                t2+=1\n",
    "            l[-1][1]=dic2[t]\n",
    "\n",
    "            t=l[-1][-1]\n",
    "            if t not in dic1:\n",
    "                dic1.update({t:t1})\n",
    "                t1+=1\n",
    "            l[-1][-1]=dic1[t]\n",
    "\n",
    "            t=l[-1][13]\n",
    "            if t not in dic3:\n",
    "                dic3.update({t:t3})\n",
    "                t3+=1\n",
    "            l[-1][13]=dic3[t]\n",
    "\n",
    "            '''\n",
    "            end of conversion\n",
    "    \n",
    "    \n",
    "            converting ip adress into decimal\n",
    "            '''\n",
    "            x=[]\n",
    "            for k in l[-1][20].split(':'):\n",
    "                x.append(str(int(k,16)))\n",
    "            l[-1][20]=int(\"\".join(x))\n",
    "            \n",
    "            x=[]\n",
    "            for k in l[-1][18].split(':'):\n",
    "                x.append(str(int(k,16)))\n",
    "            l[-1][18]=int(\"\".join(x))\n",
    "            '''\n",
    "            end of conversion\n",
    "    \n",
    "            converting ids malware and anshula to 0 and 1\n",
    "            '''\n",
    "            if l[-1][14] != '0':\n",
    "                l[-1][14]=1\n",
    "            if l[-1][15] != '0':\n",
    "                l[-1][15]=1\n",
    "            if l[-1][16] != '0':\n",
    "                l[-1][16]=1\n",
    "            '''\n",
    "            end of conversion\n",
    "    \n",
    "            converting time to int\n",
    "            '''\n",
    "            x=[]\n",
    "            for k in l[-1][22].split(':'):\n",
    "                x.append(str(int(k)))\n",
    "            l[-1][22]=int(\"\".join(x))\n",
    "            '''\n",
    "            end of conversion\n",
    "            '''\n",
    "            \n",
    "            norm_x.append(list())\n",
    "            t=0\n",
    "            for x in l[-1]:\n",
    "                if t!=17:\n",
    "                    norm_x[-1].append(float(x))\n",
    "                else:\n",
    "                    if int(x)==-1:\n",
    "                        target.append(1)\n",
    "                    if int(x)==-2:\n",
    "                        target.append(1)\n",
    "                    if int(x)==1:\n",
    "                        target.append(0)\n",
    "                t+=1"
   ]
  },
  {
   "cell_type": "code",
   "execution_count": 3,
   "metadata": {},
   "outputs": [],
   "source": [
    "norm_x=preprocessing.normalize(norm_x)"
   ]
  },
  {
   "cell_type": "code",
   "execution_count": 4,
   "metadata": {},
   "outputs": [],
   "source": [
    "X = SelectKBest(chi2, k=3).fit_transform(norm_x, target)"
   ]
  },
  {
   "cell_type": "code",
   "execution_count": 5,
   "metadata": {},
   "outputs": [
    {
     "name": "stdout",
     "output_type": "stream",
     "text": [
      "(304884, 3)\n",
      "(304884,)\n",
      "(76221, 3)\n",
      "(76221,)\n"
     ]
    }
   ],
   "source": [
    "df = pd.DataFrame(X)\n",
    "trainx, testx, trainy, testy = train_test_split(df,np.array(target), test_size=0.2)\n",
    "print(trainx.shape)\n",
    "print(trainy.shape)\n",
    "print(testx.shape)\n",
    "print(testy.shape)"
   ]
  },
  {
   "cell_type": "code",
   "execution_count": 6,
   "metadata": {},
   "outputs": [
    {
     "data": {
      "text/plain": [
       "<mpl_toolkits.mplot3d.art3d.Path3DCollection at 0x1491bfe70f0>"
      ]
     },
     "execution_count": 6,
     "metadata": {},
     "output_type": "execute_result"
    },
    {
     "data": {
      "image/png": "[encoded data removed]",
      "text/plain": [
       "<Figure size 432x288 with 1 Axes>"
      ]
     },
     "metadata": {},
     "output_type": "display_data"
    }
   ],
   "source": [
    "km=KMeans(n_clusters=3).fit(trainx)\n",
    "ax = plt.axes(projection='3d')\n",
    "ax.scatter3D(trainx[0],trainx[1],trainx[2],c=km.labels_)"
   ]
  },
  {
   "cell_type": "code",
   "execution_count": 7,
   "metadata": {},
   "outputs": [],
   "source": [
    "k1=[0,0]\n",
    "k2=[0,0]\n",
    "k3=[0,0]\n",
    "j=0\n",
    "for i in km.labels_:\n",
    "        if i==0:\n",
    "            k1[trainy[j]]+=1\n",
    "        if i==1:\n",
    "            k2[trainy[j]]+=1\n",
    "        if i==2:\n",
    "            k3[trainy[j]]+=1\n",
    "        j+=1\n",
    "l1=k1.index(max(k1))\n",
    "l2=k2.index(max(k2))\n",
    "l3=k3.index(max(k3))"
   ]
  },
  {
   "cell_type": "code",
   "execution_count": 8,
   "metadata": {},
   "outputs": [],
   "source": [
    "res=km.predict(testx)"
   ]
  },
  {
   "cell_type": "code",
   "execution_count": 9,
   "metadata": {},
   "outputs": [],
   "source": [
    "pred=[]\n",
    "for i in res:\n",
    "    if i==0:\n",
    "        pred.append(l1)\n",
    "    if i==1:\n",
    "        pred.append(l2)\n",
    "    if i==2:\n",
    "        pred.append(l3)\n"
   ]
  },
  {
   "cell_type": "code",
   "execution_count": 10,
   "metadata": {},
   "outputs": [],
   "source": [
    "tn,fp,fn,tp =confusion_matrix(testy,pred).ravel()"
   ]
  },
  {
   "cell_type": "code",
   "execution_count": 11,
   "metadata": {},
   "outputs": [
    {
     "name": "stdout",
     "output_type": "stream",
     "text": [
      "accuraccy :0.8914341192059931\n",
      "precison :0.8914341192059931\n",
      "recall :1.0\n",
      "specificity :0.0\n",
      "false positive rate :1.0\n",
      "false negative rate :0.0\n"
     ]
    }
   ],
   "source": [
    "print(\"accuraccy :\"+str((tp+tn)/(tn+tp+fn+fp)))\n",
    "print(\"precison :\"+str(tp/(tp+fp)))\n",
    "print(\"recall :\"+str(tp/(tp+fn)))\n",
    "print(\"specificity :\"+str(tn/(tn+fp)))\n",
    "print(\"false positive rate :\"+str(fp/(tn+fp)))\n",
    "print(\"false negative rate :\"+str(fn/(tp+fn)))"
   ]
  },
  {
   "cell_type": "code",
   "execution_count": null,
   "metadata": {},
   "outputs": [],
   "source": []
  },
  {
   "cell_type": "code",
   "execution_count": null,
   "metadata": {},
   "outputs": [],
   "source": []
  },
  {
   "cell_type": "code",
   "execution_count": null,
   "metadata": {},
   "outputs": [],
   "source": []
  }
 ],
 "metadata": {
  "kernelspec": {
   "display_name": "Python 3",
   "language": "python",
   "name": "python3"
  },
  "language_info": {
   "codemirror_mode": {
    "name": "ipython",
    "version": 3
   },
   "file_extension": ".py",
   "mimetype": "text/x-python",
   "name": "python",
   "nbconvert_exporter": "python",
   "pygments_lexer": "ipython3",
   "version": "3.6.5"
  }
 },
 "nbformat": 4,
 "nbformat_minor": 2
}
